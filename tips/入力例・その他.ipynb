{
 "cells": [
  {
   "cell_type": "markdown",
   "id": "9e034339",
   "metadata": {},
   "source": [
    "# 1つの数字"
   ]
  },
  {
   "cell_type": "markdown",
   "id": "ade60a82",
   "metadata": {},
   "source": [
    "## int"
   ]
  },
  {
   "cell_type": "code",
   "execution_count": 1,
   "id": "cb4bc44c",
   "metadata": {},
   "outputs": [
    {
     "name": "stdout",
     "output_type": "stream",
     "text": [
      "3\n",
      "3\n"
     ]
    }
   ],
   "source": [
    "N = int(input())\n",
    "print(N)"
   ]
  },
  {
   "cell_type": "markdown",
   "id": "9adab3b4",
   "metadata": {},
   "source": [
    "## str"
   ]
  },
  {
   "cell_type": "code",
   "execution_count": 2,
   "id": "147cceef",
   "metadata": {},
   "outputs": [
    {
     "name": "stdout",
     "output_type": "stream",
     "text": [
      "あいうえお\n",
      "あいうえお\n"
     ]
    }
   ],
   "source": [
    "s = input()\n",
    "print(s)"
   ]
  },
  {
   "cell_type": "markdown",
   "id": "71fbdf55",
   "metadata": {},
   "source": [
    "# 1行N列"
   ]
  },
  {
   "cell_type": "code",
   "execution_count": 3,
   "id": "cb50560a",
   "metadata": {},
   "outputs": [
    {
     "name": "stdout",
     "output_type": "stream",
     "text": [
      "ABC DEF GHI\n",
      "['ABC', 'DEF', 'GHI']\n",
      "ABC\n",
      "A\n"
     ]
    }
   ],
   "source": [
    "#　list型で受け取るとき\n",
    "# 入力：ABC DEF GHI\n",
    "\n",
    "s = input().split()\n",
    "\n",
    "#出力\n",
    "print(s)\n",
    "print(s[0])\n",
    "print(s[0][0])"
   ]
  },
  {
   "cell_type": "code",
   "execution_count": 4,
   "id": "eef51081",
   "metadata": {},
   "outputs": [
    {
     "name": "stdout",
     "output_type": "stream",
     "text": [
      "A B C\n",
      "A\n",
      "A B C\n"
     ]
    }
   ],
   "source": [
    "#文字列として受け取るとき\n",
    "A, B, C = input().split()\n",
    "\n",
    "#出力\n",
    "print(A)    \n",
    "print(A,B,C)"
   ]
  },
  {
   "cell_type": "code",
   "execution_count": 5,
   "id": "8b201a16",
   "metadata": {},
   "outputs": [
    {
     "name": "stdout",
     "output_type": "stream",
     "text": [
      "50 30\n",
      "50\n",
      "30\n"
     ]
    }
   ],
   "source": [
    "# 入力が整数の場合(map関数)\n",
    "\n",
    "A, B = map(int, input().split())\n",
    "print(A)\n",
    "print(B)"
   ]
  },
  {
   "cell_type": "code",
   "execution_count": 6,
   "id": "4dfda02c",
   "metadata": {},
   "outputs": [
    {
     "name": "stdout",
     "output_type": "stream",
     "text": [
      "1 2 3 4 5 7\n",
      "[1, 2, 3, 4, 5, 7]\n"
     ]
    }
   ],
   "source": [
    "# 入力数が不定のとき\n",
    "#list型で取得\n",
    "# 入力：1 2 3 4 5 7\n",
    "l = list(map(int, input().split()))\n",
    "\n",
    "#出力\n",
    "print(l)"
   ]
  },
  {
   "cell_type": "code",
   "execution_count": 8,
   "id": "b6fe5cc3",
   "metadata": {},
   "outputs": [
    {
     "name": "stdout",
     "output_type": "stream",
     "text": [
      "10 hello\n",
      "10\n",
      "hello\n"
     ]
    }
   ],
   "source": [
    "# 文字列と数字の複合\n",
    "# 入力：10 hello\n",
    "\n",
    "N, S = map(str, input().split())\n",
    "print(N)\n",
    "print(S)"
   ]
  },
  {
   "cell_type": "markdown",
   "id": "b64aa8e9",
   "metadata": {},
   "source": [
    "# N行1列"
   ]
  },
  {
   "cell_type": "markdown",
   "id": "9833a1ef",
   "metadata": {},
   "source": [
    "入力<br>\n",
    "N M<br>\n",
    "A1<br>\n",
    "A2<br>\n",
    "・<br>\n",
    "・<br>\n",
    "・<br>\n",
    "An"
   ]
  },
  {
   "cell_type": "code",
   "execution_count": 14,
   "id": "634b1b0b",
   "metadata": {},
   "outputs": [
    {
     "name": "stdout",
     "output_type": "stream",
     "text": [
      "3 4\n",
      "2\n",
      "3\n",
      "3\n",
      "1\n",
      "[2, 3, 3, 1]\n"
     ]
    }
   ],
   "source": [
    "# 空のリストを生成して上から順にリストへ格納することで、(N,1)行列を(1,N)行列に変換する\n",
    "N, M = map(int, input().split())\n",
    "\n",
    "A = [int(input()) for _ in range(M)]\n",
    "\n",
    "#出力\n",
    "print(A)"
   ]
  },
  {
   "cell_type": "markdown",
   "id": "b2f5bfbd",
   "metadata": {},
   "source": [
    "# 2変数データ"
   ]
  },
  {
   "cell_type": "markdown",
   "id": "5fb9a822",
   "metadata": {},
   "source": [
    "## 行"
   ]
  },
  {
   "cell_type": "markdown",
   "id": "26e9bcc4",
   "metadata": {},
   "source": [
    "入力<br>\n",
    "N<br>\n",
    "x1 x2 x3 ... xn<br>\n",
    "y1 y2 y3 ... yn"
   ]
  },
  {
   "cell_type": "code",
   "execution_count": null,
   "id": "ea00062d",
   "metadata": {},
   "outputs": [],
   "source": [
    "N = int(input())\n",
    "x = list(map(int, input().split()))\n",
    "y = list(map(int, input().split()))\n",
    "\n",
    "#出力\n",
    "print(x)"
   ]
  },
  {
   "cell_type": "markdown",
   "id": "beedcd15",
   "metadata": {},
   "source": [
    "## 列"
   ]
  },
  {
   "cell_type": "markdown",
   "id": "2a675e5d",
   "metadata": {},
   "source": [
    "N<br>\n",
    "x1 y1<br>\n",
    "x2 y2<br>\n",
    ":<br>\n",
    "xN yN<br>"
   ]
  },
  {
   "cell_type": "code",
   "execution_count": 16,
   "id": "7a8d4dd9",
   "metadata": {},
   "outputs": [
    {
     "name": "stdout",
     "output_type": "stream",
     "text": [
      "5\n",
      "1 2\n",
      "3 4\n",
      "5 6\n",
      "7 8\n",
      "9 10\n",
      "[1, 3, 5, 7, 9]\n",
      "7\n"
     ]
    }
   ],
   "source": [
    "N = int(input())\n",
    "xy = [map(int, input().split()) for _ in range(N)]\n",
    "x, y = [list(i) for i in zip(*xy)]\n",
    "\n",
    "#出力\n",
    "print(x)\n",
    "print(y)\n",
    "print(x[1]+y[1])"
   ]
  },
  {
   "cell_type": "markdown",
   "id": "213c0f01",
   "metadata": {},
   "source": [
    "コード例2( [xi,yi]として格納 )"
   ]
  },
  {
   "cell_type": "code",
   "execution_count": 17,
   "id": "53b6f40c",
   "metadata": {},
   "outputs": [
    {
     "name": "stdout",
     "output_type": "stream",
     "text": [
      "3\n",
      "1 2\n",
      "3 4\n",
      "5 6\n",
      "[[1, 2], [3, 4], [5, 6]]\n"
     ]
    }
   ],
   "source": [
    "N = int(input())\n",
    "l = [list(map(int, input().split())) for l in range(N)]\n",
    "\n",
    "#出力\n",
    "print(l)"
   ]
  },
  {
   "cell_type": "markdown",
   "id": "4ec4bb62",
   "metadata": {},
   "source": [
    "int型とstr型の混合"
   ]
  },
  {
   "cell_type": "code",
   "execution_count": 18,
   "id": "18410595",
   "metadata": {},
   "outputs": [
    {
     "name": "stdout",
     "output_type": "stream",
     "text": [
      "5\n",
      "1 a\n",
      "3 b\n",
      "5 c\n",
      "7 d\n",
      "9 e\n",
      "[[1, 'a'], [3, 'b'], [5, 'c'], [7, 'd'], [9, 'e']]\n",
      "<class 'int'>\n",
      "<class 'str'>\n"
     ]
    }
   ],
   "source": [
    "N = int(input())\n",
    "list = []\n",
    "for i in range(N):\n",
    "    a,b=input().split()\n",
    "    list.append([int(a), b])\n",
    "\n",
    "#出力\n",
    "print(list)\n",
    "# [[1, 'a'], [3, 'b'], [5, 'c'], [7, 'd'], [9, 'e']]\n",
    "print(type(list[0][0]))\n",
    "# <class'int'>\n",
    "print(type(list[0][1]))\n",
    "# <class'str'>"
   ]
  },
  {
   "cell_type": "code",
   "execution_count": null,
   "id": "4915c64c",
   "metadata": {},
   "outputs": [],
   "source": []
  },
  {
   "cell_type": "code",
   "execution_count": null,
   "id": "77df207b",
   "metadata": {},
   "outputs": [],
   "source": []
  },
  {
   "cell_type": "code",
   "execution_count": null,
   "id": "70cc7a0e",
   "metadata": {},
   "outputs": [],
   "source": []
  },
  {
   "cell_type": "code",
   "execution_count": null,
   "id": "77af05b4",
   "metadata": {},
   "outputs": [],
   "source": []
  },
  {
   "cell_type": "code",
   "execution_count": null,
   "id": "1f2cb895",
   "metadata": {},
   "outputs": [],
   "source": []
  },
  {
   "cell_type": "markdown",
   "id": "3c840f21",
   "metadata": {},
   "source": [
    "# 文字列操作"
   ]
  },
  {
   "cell_type": "code",
   "execution_count": 23,
   "id": "d9fabf48",
   "metadata": {},
   "outputs": [
    {
     "data": {
      "text/plain": [
       "3"
      ]
     },
     "execution_count": 23,
     "metadata": {},
     "output_type": "execute_result"
    }
   ],
   "source": [
    "# 文字のカウント\n",
    "# 文字列中に特定の字が何個あるのか\n",
    "\n",
    "s = 'abbaa'\n",
    "s.count('a')"
   ]
  },
  {
   "cell_type": "code",
   "execution_count": 26,
   "id": "c24c017e",
   "metadata": {},
   "outputs": [
    {
     "name": "stdout",
     "output_type": "stream",
     "text": [
      "ABCXYZ\n",
      "abcxyz\n",
      "abcXYZ\n"
     ]
    }
   ],
   "source": [
    "# 文字列を小文字から大文字，大文字から小文字に変換\n",
    "# 小文字 → 大文字 : upper()\n",
    "# 大文字 → 小文字 : lower()\n",
    "# 元の文字列は保持される\n",
    "\n",
    "s = 'abcXYZ'\n",
    "\n",
    "s_upper = s.upper()\n",
    "s_lower = s.lower()\n",
    "\n",
    "print(s_upper)\n",
    "print(s_lower)\n",
    "print(s) # 元の文字列は保持"
   ]
  },
  {
   "cell_type": "markdown",
   "id": "aaa0968a",
   "metadata": {},
   "source": [
    "# リスト操作"
   ]
  },
  {
   "cell_type": "code",
   "execution_count": 27,
   "id": "2cc80cc5",
   "metadata": {},
   "outputs": [
    {
     "data": {
      "text/plain": [
       "3"
      ]
     },
     "execution_count": 27,
     "metadata": {},
     "output_type": "execute_result"
    }
   ],
   "source": [
    "# 特定の要素数カウント\n",
    "# a.count()\n",
    "\n",
    "a = [1, 1, 3, 1, 2, 5]\n",
    "\n",
    "a.count(1)"
   ]
  },
  {
   "cell_type": "code",
   "execution_count": 34,
   "id": "3f572510",
   "metadata": {},
   "outputs": [
    {
     "name": "stdout",
     "output_type": "stream",
     "text": [
      "abc\n",
      "a挟b挟c\n"
     ]
    }
   ],
   "source": [
    "# 指定した文字を挟んで結合し，文字列に\n",
    "# 要素がint型整数のものに使うとエラーが出る\n",
    "\n",
    "a = ['a', 'b', 'c']\n",
    "\n",
    "# 要素をすべて繋げる\n",
    "print( ''.join(a) )\n",
    "\n",
    "# クオーテーション間に挟みたい文字列を記述\n",
    "print( '挟'.join(a) )"
   ]
  },
  {
   "cell_type": "code",
   "execution_count": 56,
   "id": "ed463f0d",
   "metadata": {},
   "outputs": [
    {
     "name": "stdout",
     "output_type": "stream",
     "text": [
      "b : [1, 2, 3, 4, 5]\n",
      "a : [1, 4, 2, 5, 3]\n",
      "c : [1, 2, 3, 4, 5]\n",
      "d : None\n",
      "昇順 : [1, 2, 3, 4, 5]\n",
      "降順 : [5, 4, 3, 2, 1]\n"
     ]
    }
   ],
   "source": [
    "# リストのソート\n",
    "# 元リストを保持したい場合 → sorted(a)\n",
    "# 元リストを変更する場合.→ a.sort()\n",
    "\n",
    "# sorted(a)\n",
    "a = [1, 4, 2, 5, 3]\n",
    "\n",
    "b = sorted(a)\n",
    "sorted(a)\n",
    "print('b : {}'.format(b))\n",
    "print('a : {}'.format(a))\n",
    "\n",
    "# -------------------------------------------------------------------------------------------------------------------------------------\n",
    "\n",
    "# a.sort()\n",
    "c = [1, 4, 2, 5, 3]\n",
    "\n",
    "c.sort()\n",
    "d = c.sort()\n",
    "print('c : {}'.format(c))\n",
    "print('d : {}'.format(d))  # c.sort()をdに代入することはできない\n",
    "\n",
    "# -------------------------------------------------------------------------------------------------------------------------------------\n",
    "# 昇順，降順を指定\n",
    "e = [1, 3, 2, 5, 4]\n",
    "\n",
    "# 昇順(デフォルト)\n",
    "e_up = sorted(e, reverse=False)\n",
    "print('昇順 : {}'.format(e_up))\n",
    "\n",
    "# 降順\n",
    "e_down = sorted(e, reverse=True)\n",
    "print('降順 : {}'.format(e_down))"
   ]
  },
  {
   "cell_type": "code",
   "execution_count": 58,
   "id": "48fd70a6",
   "metadata": {},
   "outputs": [
    {
     "name": "stdout",
     "output_type": "stream",
     "text": [
      "[5, 4, 3, 2, 1]\n",
      "[5, 4, 3, 2, 1]\n"
     ]
    }
   ],
   "source": [
    "# リストの要素を反転させる\n",
    "# reversed()\n",
    "# 元リストは保持される(イミュータブル)\n",
    "\n",
    "a = [1, 2, 3, 4, 5]\n",
    "\n",
    "b = list(reversed(a))\n",
    "print(b)\n",
    "\n",
    "# ---------------------------------------------------------------------------------------------\n",
    "# ミュータブル操作(自身を変更)はa.reversed()\n",
    "c = [1, 2, 3, 4, 5]\n",
    "c.reverse()\n",
    "print(c)"
   ]
  },
  {
   "cell_type": "code",
   "execution_count": 51,
   "id": "2c7b979c",
   "metadata": {},
   "outputs": [
    {
     "name": "stdout",
     "output_type": "stream",
     "text": [
      "5\n",
      "1\n"
     ]
    }
   ],
   "source": [
    "# リストの最大値，最小値\n",
    "\n",
    "a = [1, 3, 2, 4, 5]\n",
    "\n",
    "print(max(a))\n",
    "print(min(a))"
   ]
  },
  {
   "cell_type": "code",
   "execution_count": 65,
   "id": "59358743",
   "metadata": {},
   "outputs": [
    {
     "name": "stdout",
     "output_type": "stream",
     "text": [
      "[1, 2]\n"
     ]
    }
   ],
   "source": [
    "# 末尾の要素を削除\n",
    "# a.pop()\n",
    "\n",
    "a = [1, 2, 3]\n",
    "a.pop()\n",
    "\n",
    "print(a)"
   ]
  },
  {
   "cell_type": "code",
   "execution_count": null,
   "id": "0adc5a81",
   "metadata": {},
   "outputs": [],
   "source": []
  },
  {
   "cell_type": "markdown",
   "id": "9319ece3",
   "metadata": {},
   "source": [
    "# 再帰回数の上限変更"
   ]
  },
  {
   "cell_type": "code",
   "execution_count": 15,
   "id": "a94257e1",
   "metadata": {},
   "outputs": [],
   "source": [
    "import sys\n",
    "sys.setrecursionlimit(10 ** 9)"
   ]
  },
  {
   "cell_type": "markdown",
   "id": "0a671bb3",
   "metadata": {},
   "source": [
    "# 切り上げ・切り捨て"
   ]
  },
  {
   "cell_type": "code",
   "execution_count": 3,
   "id": "0d9d0724",
   "metadata": {},
   "outputs": [
    {
     "data": {
      "text/plain": [
       "2.5"
      ]
     },
     "execution_count": 3,
     "metadata": {},
     "output_type": "execute_result"
    }
   ],
   "source": [
    "# 普通の除算\n",
    "# 小数点含む結果が出力\n",
    "5/2"
   ]
  },
  {
   "cell_type": "code",
   "execution_count": 2,
   "id": "06060230",
   "metadata": {},
   "outputs": [
    {
     "name": "stdout",
     "output_type": "stream",
     "text": [
      "2.5\n",
      "3\n"
     ]
    }
   ],
   "source": [
    "# 除算切り上げ\n",
    "# math関数\n",
    "import math\n",
    "\n",
    "math.ceil(5/2)"
   ]
  },
  {
   "cell_type": "code",
   "execution_count": 6,
   "id": "f3f4ac92",
   "metadata": {},
   "outputs": [
    {
     "name": "stdout",
     "output_type": "stream",
     "text": [
      "2\n",
      "2\n",
      "2\n"
     ]
    }
   ],
   "source": [
    "# 除算切り捨て\n",
    "# パターン１ : //\n",
    "# パターン2 : round\n",
    "# パターン3 : math.floor\n",
    "\n",
    "print( 5//2 )\n",
    "print( round(5/2) )\n",
    "\n",
    "import math\n",
    "print( math.floor(5/2) )"
   ]
  },
  {
   "cell_type": "markdown",
   "id": "1e53bbe7",
   "metadata": {},
   "source": [
    "# set型・リスト重複削除"
   ]
  },
  {
   "cell_type": "code",
   "execution_count": 13,
   "id": "c419838f",
   "metadata": {},
   "outputs": [
    {
     "name": "stdout",
     "output_type": "stream",
     "text": [
      "{0, 1, 2, 3, 100, 5}   ,  type : <class 'set'>\n"
     ]
    }
   ],
   "source": [
    "# set(a)でset型になり，重複削除される\n",
    "# set()したものは順序が保持されない\n",
    "# イミュータブル\n",
    "\n",
    "a = [1, 3, 3, 0, 2, 5, 5, 100]\n",
    "\n",
    "a = set(a)\n",
    "print(a, '  ,  type : {}'.format(type(a)))"
   ]
  },
  {
   "cell_type": "code",
   "execution_count": 14,
   "id": "4797414b",
   "metadata": {},
   "outputs": [
    {
     "name": "stdout",
     "output_type": "stream",
     "text": [
      "[0, 1, 2, 3, 100, 5]   ,  type : <class 'list'>\n"
     ]
    }
   ],
   "source": [
    "# リスト型で取得する場合 → list(set(a))とする\n",
    "\n",
    "a = [1, 3, 3, 0, 2, 5, 5, 100]\n",
    "\n",
    "a = list(set(a))\n",
    "print(a, '  ,  type : {}'.format(type(a)))"
   ]
  },
  {
   "cell_type": "code",
   "execution_count": 17,
   "id": "bb29c2e5",
   "metadata": {},
   "outputs": [
    {
     "name": "stdout",
     "output_type": "stream",
     "text": [
      "[1, 5, 4, 7, 2, 8, 3]\n"
     ]
    }
   ],
   "source": [
    "# 順序を保持してset型を適用したい場合\n",
    "# 重複している要素は，最初に出てきた要素が採用される\n",
    "\n",
    "a = [1, 5, 4, 7, 4, 2, 7, 8, 2, 3, 8, 5]\n",
    "a = sorted(set(a), key=a.index)\n",
    "print(a)"
   ]
  },
  {
   "cell_type": "markdown",
   "id": "2da0d2fd",
   "metadata": {},
   "source": [
    "# リストのソート"
   ]
  },
  {
   "cell_type": "code",
   "execution_count": 22,
   "id": "a703ddb9",
   "metadata": {
    "scrolled": true
   },
   "outputs": [
    {
     "name": "stdout",
     "output_type": "stream",
     "text": [
      "[-20, 0, 1.5, 2, 3, 3, 10, 100]\n",
      "[3, 2, 10, 0, 100, -20, 1.5, 3]\n"
     ]
    }
   ],
   "source": [
    "# a.sort()でソート\n",
    "# オブジェクト自体を変えるため，元データを保持したい場合は，コピーを保存しておく (ミュータブル)\n",
    "# 重複要素は削除されない\n",
    "\n",
    "a = [3, 2, 10, 0, 100, -20, 1.5, 3]\n",
    "a_copy = a.copy() # 元データを保持したい場合はコピー\n",
    "\n",
    "a.sort()\n",
    "print(a)\n",
    "print(a_copy) # コピーしたものはそのまま"
   ]
  },
  {
   "cell_type": "code",
   "execution_count": null,
   "id": "33b701b2",
   "metadata": {},
   "outputs": [],
   "source": []
  },
  {
   "cell_type": "code",
   "execution_count": null,
   "id": "21c4b97d",
   "metadata": {},
   "outputs": [],
   "source": []
  },
  {
   "cell_type": "code",
   "execution_count": null,
   "id": "ddacca3d",
   "metadata": {},
   "outputs": [],
   "source": []
  },
  {
   "cell_type": "code",
   "execution_count": null,
   "id": "0c2193a5",
   "metadata": {},
   "outputs": [],
   "source": []
  },
  {
   "cell_type": "code",
   "execution_count": null,
   "id": "b8b0702d",
   "metadata": {},
   "outputs": [],
   "source": []
  },
  {
   "cell_type": "code",
   "execution_count": null,
   "id": "850d1264",
   "metadata": {},
   "outputs": [],
   "source": []
  },
  {
   "cell_type": "code",
   "execution_count": null,
   "id": "2b762b91",
   "metadata": {},
   "outputs": [],
   "source": []
  },
  {
   "cell_type": "code",
   "execution_count": null,
   "id": "c0ddcf2d",
   "metadata": {},
   "outputs": [],
   "source": []
  },
  {
   "cell_type": "code",
   "execution_count": null,
   "id": "b43c21fe",
   "metadata": {},
   "outputs": [],
   "source": []
  },
  {
   "cell_type": "markdown",
   "id": "22f5a7da",
   "metadata": {},
   "source": [
    "# その他"
   ]
  },
  {
   "cell_type": "markdown",
   "id": "3d3f047f",
   "metadata": {},
   "source": [
    "## if文のTrue, False"
   ]
  },
  {
   "cell_type": "markdown",
   "id": "c84f863d",
   "metadata": {},
   "source": [
    "- 条件式は，True, Falseではなくとも動作する\n",
    "- 数値の場合，0であればFalse, それ以外はTrue扱いとなる\n",
    "- 条件式を「a==10」とした時に，aがfloat型(小数10.0)であった場合もTrueとなる"
   ]
  },
  {
   "cell_type": "code",
   "execution_count": null,
   "id": "e98fc1ee",
   "metadata": {},
   "outputs": [],
   "source": []
  }
 ],
 "metadata": {
  "kernelspec": {
   "display_name": "Python 3",
   "language": "python",
   "name": "python3"
  },
  "language_info": {
   "codemirror_mode": {
    "name": "ipython",
    "version": 3
   },
   "file_extension": ".py",
   "mimetype": "text/x-python",
   "name": "python",
   "nbconvert_exporter": "python",
   "pygments_lexer": "ipython3",
   "version": "3.8.8"
  },
  "toc": {
   "base_numbering": 1,
   "nav_menu": {},
   "number_sections": true,
   "sideBar": true,
   "skip_h1_title": false,
   "title_cell": "Table of Contents",
   "title_sidebar": "Contents",
   "toc_cell": false,
   "toc_position": {
    "height": "calc(100% - 180px)",
    "left": "10px",
    "top": "150px",
    "width": "243.003px"
   },
   "toc_section_display": true,
   "toc_window_display": true
  },
  "varInspector": {
   "cols": {
    "lenName": 16,
    "lenType": 16,
    "lenVar": 40
   },
   "kernels_config": {
    "python": {
     "delete_cmd_postfix": "",
     "delete_cmd_prefix": "del ",
     "library": "var_list.py",
     "varRefreshCmd": "print(var_dic_list())"
    },
    "r": {
     "delete_cmd_postfix": ") ",
     "delete_cmd_prefix": "rm(",
     "library": "var_list.r",
     "varRefreshCmd": "cat(var_dic_list()) "
    }
   },
   "types_to_exclude": [
    "module",
    "function",
    "builtin_function_or_method",
    "instance",
    "_Feature"
   ],
   "window_display": false
  }
 },
 "nbformat": 4,
 "nbformat_minor": 5
}
