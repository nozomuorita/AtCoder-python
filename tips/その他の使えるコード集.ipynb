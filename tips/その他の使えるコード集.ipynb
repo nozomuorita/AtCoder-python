{
 "cells": [
  {
   "cell_type": "markdown",
   "id": "78f35faf",
   "metadata": {},
   "source": [
    "# 文字列の入出力"
   ]
  },
  {
   "cell_type": "markdown",
   "id": "72321bcf",
   "metadata": {},
   "source": [
    "## 文字列を一文字ずつリストに入れる(1次元配列の場合)"
   ]
  },
  {
   "cell_type": "code",
   "execution_count": 1,
   "id": "f5a7ca93",
   "metadata": {},
   "outputs": [
    {
     "name": "stdout",
     "output_type": "stream",
     "text": [
      "aiueo\n",
      "['a', 'i', 'u', 'e', 'o']\n"
     ]
    }
   ],
   "source": [
    "# 文字列を入力\n",
    "s = list(input())\n",
    "\n",
    "print(s)"
   ]
  },
  {
   "cell_type": "markdown",
   "id": "329ffda1",
   "metadata": {},
   "source": [
    "## 文字列を一文字ずつリストに入れる(2次元配列の場合)"
   ]
  },
  {
   "cell_type": "code",
   "execution_count": 2,
   "id": "ffea364c",
   "metadata": {},
   "outputs": [
    {
     "name": "stdout",
     "output_type": "stream",
     "text": [
      "aiueo\n",
      "kaki\n",
      "kuke\n",
      "[['a', 'i', 'u', 'e', 'o'], ['k', 'a', 'k', 'i'], ['k', 'u', 'k', 'e']]\n"
     ]
    }
   ],
   "source": [
    "# 2次元配列とする場合\n",
    "S = []\n",
    "\n",
    "for i in range(3):\n",
    "    s = list(input())\n",
    "    S.append(s)\n",
    "    \n",
    "print(S)"
   ]
  },
  {
   "cell_type": "markdown",
   "id": "cb9f4e3e",
   "metadata": {},
   "source": [
    "## リストの文字をつなげて出力(スペースなし)"
   ]
  },
  {
   "cell_type": "code",
   "execution_count": 3,
   "id": "23c489bd",
   "metadata": {},
   "outputs": [
    {
     "name": "stdout",
     "output_type": "stream",
     "text": [
      "aiueo\n",
      "['a', 'i', 'u', 'e', 'o']\n",
      "aiueo\n"
     ]
    }
   ],
   "source": [
    "# リストに入れた文字列を繋げて出力する場合(スペースなし)\n",
    "s = list(input())\n",
    "print(s) #入力したもの\n",
    "\n",
    "#出力\n",
    "print(''.join(s))"
   ]
  },
  {
   "cell_type": "markdown",
   "id": "e34004a2",
   "metadata": {},
   "source": [
    "## リストの要素をつなげて出力(スペースあり)"
   ]
  },
  {
   "cell_type": "code",
   "execution_count": 4,
   "id": "0b865d5b",
   "metadata": {},
   "outputs": [
    {
     "name": "stdout",
     "output_type": "stream",
     "text": [
      "aiueo\n",
      "a i u e o\n"
     ]
    }
   ],
   "source": [
    "#スペースありで出力する場合\n",
    "s = list(input())\n",
    "\n",
    "#出力\n",
    "print(*s)"
   ]
  },
  {
   "cell_type": "markdown",
   "id": "bc1eb1b3",
   "metadata": {},
   "source": [
    "# UnionFindクラス"
   ]
  },
  {
   "cell_type": "markdown",
   "id": "b57c731a",
   "metadata": {},
   "source": [
    "- 実装する際は，頂点数Nを用いて <br>\n",
    "uf = UnionFind(N)"
   ]
  },
  {
   "cell_type": "code",
   "execution_count": null,
   "id": "912d5c6c",
   "metadata": {},
   "outputs": [],
   "source": [
    "from collections import defaultdict\n",
    "\n",
    "class UnionFind():\n",
    "    def __init__(self, n):\n",
    "        self.n = n\n",
    "        self.parents = [-1] * n\n",
    "\n",
    "    # 要素xが属するグループの根(親)を返す\n",
    "    def find(self, x):\n",
    "        if self.parents[x] < 0:\n",
    "            return x\n",
    "        else:\n",
    "            self.parents[x] = self.find(self.parents[x])\n",
    "            return self.parents[x]\n",
    "\n",
    "    # 要素xと要素yを結合\n",
    "    def union(self, x, y):\n",
    "        x = self.find(x)\n",
    "        y = self.find(y)\n",
    "\n",
    "        if x == y:\n",
    "            return\n",
    "\n",
    "        if self.parents[x] > self.parents[y]:\n",
    "            x, y = y, x\n",
    "\n",
    "        self.parents[x] += self.parents[y]\n",
    "        self.parents[y] = x\n",
    "\n",
    "    # 要素xが属するグループの要素数を返す\n",
    "    def size(self, x):\n",
    "        return -self.parents[self.find(x)]\n",
    "\n",
    "    # 要素xと要素yが同じグループに属するかを返す\n",
    "    def same(self, x, y):\n",
    "        return self.find(x) == self.find(y)\n",
    "    \n",
    "    # 要素xが属するグループのメンバーをリストで返す\n",
    "    def members(self, x):\n",
    "        root = self.find(x)\n",
    "        return [i for i in range(self.n) if self.find(i) == root]\n",
    "\n",
    "    # 全ての根の要素をリストで返す\n",
    "    def roots(self):\n",
    "        return [i for i, x in enumerate(self.parents) if x < 0]\n",
    "\n",
    "    # グループの数(連結成分数)を返す\n",
    "    def group_count(self):\n",
    "        return len(self.roots())\n",
    "\n",
    "    # 辞書型を返す\n",
    "    # キーは，グループのルート要素\n",
    "    # 値は，そのルート要素に含まれるメンバーのリスト\n",
    "    def all_group_members(self):\n",
    "        group_members = defaultdict(list)\n",
    "        for member in range(self.n):\n",
    "            group_members[self.find(member)].append(member)\n",
    "        return group_members\n",
    "\n",
    "    # ルート要素: [そのグループに含まれる要素のリスト]を文字列で返す\n",
    "    def __str__(self):\n",
    "        return '\\n'.join(f'{r}: {m}' for r, m in self.all_group_members().items())"
   ]
  },
  {
   "cell_type": "code",
   "execution_count": null,
   "id": "fe3edf8e",
   "metadata": {},
   "outputs": [],
   "source": []
  },
  {
   "cell_type": "markdown",
   "id": "254dd480",
   "metadata": {},
   "source": [
    "# heapq(優先度付きキュー)"
   ]
  },
  {
   "cell_type": "markdown",
   "id": "9610684b",
   "metadata": {},
   "source": [
    "- 値を小さい順で管理できる\n",
    "- 計算量はlogNほど\n",
    "- heapq.heappop(リスト名)で最小値を取得\n",
    "- heapq.heappush(リスト名，値)でリストに優先度付きで値を追加\n",
    "- 最大値を管理する場合は，マイナスした値で管理し，取り出すときにもう一回マイナスして元に戻すことで使用"
   ]
  },
  {
   "cell_type": "code",
   "execution_count": 1,
   "id": "7a974c52",
   "metadata": {},
   "outputs": [
    {
     "name": "stdout",
     "output_type": "stream",
     "text": [
      "-1\n",
      "1\n",
      "3\n",
      "40\n"
     ]
    }
   ],
   "source": [
    "import heapq\n",
    "a = []\n",
    "\n",
    "# 優先度付きキューに追加\n",
    "heapq.heappush(a, 3)\n",
    "heapq.heappush(a, 1)\n",
    "heapq.heappush(a, 40)\n",
    "heapq.heappush(a, -1)\n",
    "\n",
    "# while文で取り出すと，小さい値から取り出すことができる\n",
    "while a:\n",
    "    print(heapq.heappop(a))"
   ]
  },
  {
   "cell_type": "code",
   "execution_count": 2,
   "id": "2eb699b3",
   "metadata": {},
   "outputs": [
    {
     "name": "stdout",
     "output_type": "stream",
     "text": [
      "40\n",
      "3\n",
      "1\n",
      "-1\n"
     ]
    }
   ],
   "source": [
    "# 最大値管理は，マイナスした値で使用\n",
    "a = []\n",
    "\n",
    "# 優先度付きキューに追加\n",
    "heapq.heappush(a, (-1)*3)\n",
    "heapq.heappush(a, (-1)*1)\n",
    "heapq.heappush(a, (-1)*40)\n",
    "heapq.heappush(a, (-1)*(-1))\n",
    "\n",
    "# while文で取り出すと，大きい値で取り出すことができる(取り出すときはもう一度マイナスして元に戻す)\n",
    "while a:\n",
    "    print(-(heapq.heappop(a)))"
   ]
  },
  {
   "cell_type": "code",
   "execution_count": null,
   "id": "df13d0b0",
   "metadata": {},
   "outputs": [],
   "source": []
  },
  {
   "cell_type": "code",
   "execution_count": null,
   "id": "c064ea58",
   "metadata": {},
   "outputs": [],
   "source": []
  },
  {
   "cell_type": "code",
   "execution_count": null,
   "id": "3bf50a78",
   "metadata": {},
   "outputs": [],
   "source": []
  }
 ],
 "metadata": {
  "kernelspec": {
   "display_name": "Python 3 (ipykernel)",
   "language": "python",
   "name": "python3"
  },
  "language_info": {
   "codemirror_mode": {
    "name": "ipython",
    "version": 3
   },
   "file_extension": ".py",
   "mimetype": "text/x-python",
   "name": "python",
   "nbconvert_exporter": "python",
   "pygments_lexer": "ipython3",
   "version": "3.10.11"
  },
  "toc": {
   "base_numbering": 1,
   "nav_menu": {},
   "number_sections": true,
   "sideBar": true,
   "skip_h1_title": false,
   "title_cell": "Table of Contents",
   "title_sidebar": "Contents",
   "toc_cell": false,
   "toc_position": {
    "height": "calc(100% - 180px)",
    "left": "10px",
    "top": "150px",
    "width": "362.547px"
   },
   "toc_section_display": true,
   "toc_window_display": true
  },
  "varInspector": {
   "cols": {
    "lenName": 16,
    "lenType": 16,
    "lenVar": 40
   },
   "kernels_config": {
    "python": {
     "delete_cmd_postfix": "",
     "delete_cmd_prefix": "del ",
     "library": "var_list.py",
     "varRefreshCmd": "print(var_dic_list())"
    },
    "r": {
     "delete_cmd_postfix": ") ",
     "delete_cmd_prefix": "rm(",
     "library": "var_list.r",
     "varRefreshCmd": "cat(var_dic_list()) "
    }
   },
   "types_to_exclude": [
    "module",
    "function",
    "builtin_function_or_method",
    "instance",
    "_Feature"
   ],
   "window_display": false
  }
 },
 "nbformat": 4,
 "nbformat_minor": 5
}
