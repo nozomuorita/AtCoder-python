{
 "cells": [
  {
   "cell_type": "markdown",
   "id": "dc7cede4",
   "metadata": {},
   "source": [
    "<p style=\"font-size: 200%; margin-top: 50px; margin-bottom: 50px;\">アルゴリズム・関数集</p>"
   ]
  },
  {
   "cell_type": "markdown",
   "id": "9f2b751d",
   "metadata": {},
   "source": [
    "- やること\n",
    "- アルゴリズムの時間計測"
   ]
  },
  {
   "cell_type": "code",
   "execution_count": null,
   "id": "f4e75654",
   "metadata": {},
   "outputs": [],
   "source": []
  },
  {
   "cell_type": "markdown",
   "id": "8cfaa0a5",
   "metadata": {},
   "source": [
    "# 素数判定"
   ]
  },
  {
   "cell_type": "markdown",
   "id": "f0f384b9",
   "metadata": {},
   "source": [
    "## 試し割り法 O(N**0.5)"
   ]
  },
  {
   "cell_type": "markdown",
   "id": "82c83c90",
   "metadata": {},
   "source": [
    "<ul style=\"line-height: 30px; margin-top: 10px; margin-bottom: 20px;\">\n",
    "    <li style=\"font-size: 125%;\">2から√Nまで順に割っていき，割り切れたら素数ではない</li>\n",
    "    <li style=\"font-size: 125%;\">偶数は約数に2を持つため，省略すると少し高速化</li>\n",
    "</ul>"
   ]
  },
  {
   "cell_type": "code",
   "execution_count": 1,
   "id": "af19d850",
   "metadata": {},
   "outputs": [],
   "source": [
    "# 素数ならTrue, 素数でないならFalseを返す\n",
    "def is_prime(n):\n",
    "    if n == 1:\n",
    "        return True\n",
    "    for i in range(2, int(n**0.5) + 1):\n",
    "        if n % i == 0:\n",
    "            return False\n",
    "    return True"
   ]
  },
  {
   "cell_type": "code",
   "execution_count": 3,
   "id": "e4912ff7",
   "metadata": {},
   "outputs": [
    {
     "data": {
      "text/plain": [
       "True"
      ]
     },
     "execution_count": 3,
     "metadata": {},
     "output_type": "execute_result"
    }
   ],
   "source": [
    "is_prime(3) # 素数"
   ]
  },
  {
   "cell_type": "code",
   "execution_count": 4,
   "id": "61596447",
   "metadata": {},
   "outputs": [
    {
     "data": {
      "text/plain": [
       "False"
      ]
     },
     "execution_count": 4,
     "metadata": {},
     "output_type": "execute_result"
    }
   ],
   "source": [
    "is_prime(10) # 素数ではない"
   ]
  },
  {
   "cell_type": "markdown",
   "id": "b05db1ad",
   "metadata": {},
   "source": [
    "## エラトステネスの篩 O(NloglogN)"
   ]
  },
  {
   "cell_type": "markdown",
   "id": "ab6e4234",
   "metadata": {},
   "source": [
    "<ul style=\"line-height: 30px; margin-top: 10px; margin-bottom: 20px;\">\n",
    "    <li style=\"font-size: 125%;\">N以下の素数を全列挙する</li>\n",
    "    <li style=\"font-size: 125%;\"><b>判定を複数行う</b>場合，前処理後はO(1)で判定可能</li>\n",
    "    <li style=\"font-size: 125%;\">デメリット：大きさNの配列を使うため，メモリ大</li>\n",
    "    <li style=\"font-size: 125%;\">手法：小さいほうから素数判定し，その数が素数ならば，その倍数をすべて削除(素数ではないため)</li>\n",
    "</ul>"
   ]
  },
  {
   "cell_type": "code",
   "execution_count": 7,
   "id": "d102e635",
   "metadata": {},
   "outputs": [],
   "source": [
    "# nまでの素数判定結果リストが返される\n",
    "def eratosthenes_sieve(n):\n",
    "    is_prime = [True] * (n+1)\n",
    "    is_prime[0] = False\n",
    "    is_prime[1] = False\n",
    "    for p in range(2, n+1):\n",
    "        if is_prime[p]:\n",
    "            for q in range(2*p, n+1, p):\n",
    "                is_prime[q] = False\n",
    "    return is_prime"
   ]
  },
  {
   "cell_type": "code",
   "execution_count": 8,
   "id": "a8ea0854",
   "metadata": {},
   "outputs": [
    {
     "data": {
      "text/plain": [
       "[False, False, True, True, False, True, False, True, False, False, False]"
      ]
     },
     "execution_count": 8,
     "metadata": {},
     "output_type": "execute_result"
    }
   ],
   "source": [
    "# ０〜１０が素数であるか\n",
    "eratosthenes_sieve(10)"
   ]
  },
  {
   "cell_type": "code",
   "execution_count": 9,
   "id": "879a5676",
   "metadata": {},
   "outputs": [
    {
     "name": "stdout",
     "output_type": "stream",
     "text": [
      "2 : True\n",
      "5 : True\n",
      "6 : False\n"
     ]
    }
   ],
   "source": [
    "# 使用例\n",
    "n = 10\n",
    "num = [2, 5, 6] # 判定用\n",
    "is_prime = eratosthenes_sieve(10)\n",
    "for i in num:\n",
    "    print('{} : {}'.format(i, is_prime[i]))"
   ]
  },
  {
   "cell_type": "markdown",
   "id": "4de0eee6",
   "metadata": {},
   "source": [
    "# 素因数分解"
   ]
  },
  {
   "cell_type": "markdown",
   "id": "7be07b86",
   "metadata": {},
   "source": [
    "## 素因数列挙"
   ]
  },
  {
   "cell_type": "code",
   "execution_count": 2,
   "id": "05ffe681",
   "metadata": {},
   "outputs": [],
   "source": [
    "def prime_factorize(n):\n",
    "    a = []\n",
    "    while n % 2 == 0:\n",
    "        a.append(2)\n",
    "        n //= 2\n",
    "    f = 3\n",
    "    while f * f <= n:\n",
    "        if n % f == 0:\n",
    "            a.append(f)\n",
    "            n //= f\n",
    "        else:\n",
    "            f += 2\n",
    "    if n != 1:\n",
    "        a.append(n)\n",
    "    return a"
   ]
  },
  {
   "cell_type": "code",
   "execution_count": 3,
   "id": "0de56be4",
   "metadata": {},
   "outputs": [
    {
     "data": {
      "text/plain": [
       "[]"
      ]
     },
     "execution_count": 3,
     "metadata": {},
     "output_type": "execute_result"
    }
   ],
   "source": [
    "# 1の場合は，空リストを返す\n",
    "prime_factorize(1)"
   ]
  },
  {
   "cell_type": "code",
   "execution_count": 8,
   "id": "34941f19",
   "metadata": {},
   "outputs": [
    {
     "data": {
      "text/plain": [
       "[2, 2, 2, 5, 7]"
      ]
     },
     "execution_count": 8,
     "metadata": {},
     "output_type": "execute_result"
    }
   ],
   "source": [
    "prime_factorize(280)"
   ]
  },
  {
   "cell_type": "markdown",
   "id": "9e361390",
   "metadata": {},
   "source": [
    "## 素数とその個数を取得"
   ]
  },
  {
   "cell_type": "code",
   "execution_count": 15,
   "id": "721b876a",
   "metadata": {},
   "outputs": [
    {
     "name": "stdout",
     "output_type": "stream",
     "text": [
      "Counter({2: 3, 3: 1, 5: 1, 7: 1})\n"
     ]
    }
   ],
   "source": [
    "# collectionsのCounter型を使用\n",
    "import collections\n",
    "\n",
    "c = collections.Counter(prime_factorize(840))\n",
    "print(c)"
   ]
  },
  {
   "cell_type": "code",
   "execution_count": 16,
   "id": "0de8699b",
   "metadata": {},
   "outputs": [
    {
     "name": "stdout",
     "output_type": "stream",
     "text": [
      "[2, 3, 5, 7]\n",
      "[3, 1, 1, 1]\n"
     ]
    }
   ],
   "source": [
    "# キーと値を取り出す\n",
    "k = list(c.keys())\n",
    "v = list(c.values())\n",
    "\n",
    "print(k)\n",
    "print(v)"
   ]
  },
  {
   "cell_type": "markdown",
   "id": "ab21c9da",
   "metadata": {},
   "source": [
    "# 約数列挙"
   ]
  },
  {
   "cell_type": "code",
   "execution_count": 20,
   "id": "aac95143",
   "metadata": {},
   "outputs": [],
   "source": [
    "def make_divisors(n):\n",
    "    lower_divisors , upper_divisors = [], []\n",
    "    i = 1\n",
    "    while i*i <= n:\n",
    "        if n % i == 0:\n",
    "            lower_divisors.append(i)\n",
    "            if i != n // i:\n",
    "                upper_divisors.append(n//i)\n",
    "        i += 1\n",
    "    return lower_divisors + upper_divisors[::-1]"
   ]
  },
  {
   "cell_type": "code",
   "execution_count": 21,
   "id": "cb58d289",
   "metadata": {},
   "outputs": [
    {
     "data": {
      "text/plain": [
       "[1, 2, 5, 10]"
      ]
     },
     "execution_count": 21,
     "metadata": {},
     "output_type": "execute_result"
    }
   ],
   "source": [
    "make_divisors(10)"
   ]
  },
  {
   "cell_type": "code",
   "execution_count": null,
   "id": "e83f451d",
   "metadata": {},
   "outputs": [],
   "source": []
  },
  {
   "cell_type": "markdown",
   "id": "e050f229",
   "metadata": {},
   "source": [
    "# 連結成分数を求める(ABC284 - C)"
   ]
  },
  {
   "cell_type": "markdown",
   "id": "e9a3f578",
   "metadata": {},
   "source": [
    "## DFS"
   ]
  },
  {
   "cell_type": "code",
   "execution_count": null,
   "id": "2e341f22",
   "metadata": {},
   "outputs": [],
   "source": [
    "# DFS\n",
    "import sys\n",
    "sys.setrecursionlimit(1000000)\n",
    "\n",
    "N, M = map(int, input().split())\n",
    "ans = 0  #連結成分数\n",
    "\n",
    "# 隣接リスト\n",
    "r = [[] for _ in range(N)]\n",
    "for i in range(M):\n",
    "    u, v = map(int, input().split())\n",
    "    r[u-1].append(v-1)\n",
    "    r[v-1].append(u-1)\n",
    "    \n",
    "# 訪問済みかどうかを管理\n",
    "visited = [False] * N\n",
    "\n",
    "# 再帰関数\n",
    "def dfs(i):\n",
    "    visited[i] = True\n",
    "    \n",
    "    for i2 in r[i]:\n",
    "        if not(visited[i2]):\n",
    "            dfs(i2)\n",
    "            \n",
    "for k in range(N):\n",
    "    if visited[k]:\n",
    "        continue\n",
    "    else:\n",
    "        ans += 1\n",
    "        dfs(k)\n",
    "\n",
    "print(ans)"
   ]
  },
  {
   "cell_type": "markdown",
   "id": "aef3a11f",
   "metadata": {},
   "source": [
    "## UnionFindクラス"
   ]
  },
  {
   "cell_type": "code",
   "execution_count": null,
   "id": "ab38461c",
   "metadata": {},
   "outputs": [],
   "source": [
    "# UnionFind\n",
    "\n",
    "from collections import defaultdict\n",
    "\n",
    "class UnionFind():\n",
    "    def __init__(self, n):\n",
    "        self.n = n\n",
    "        self.parents = [-1] * n\n",
    "\n",
    "    def find(self, x):\n",
    "        if self.parents[x] < 0:\n",
    "            return x\n",
    "        else:\n",
    "            self.parents[x] = self.find(self.parents[x])\n",
    "            return self.parents[x]\n",
    "\n",
    "    def union(self, x, y):\n",
    "        x = self.find(x)\n",
    "        y = self.find(y)\n",
    "\n",
    "        if x == y:\n",
    "            return\n",
    "\n",
    "        if self.parents[x] > self.parents[y]:\n",
    "            x, y = y, x\n",
    "\n",
    "        self.parents[x] += self.parents[y]\n",
    "        self.parents[y] = x\n",
    "\n",
    "    def size(self, x):\n",
    "        return -self.parents[self.find(x)]\n",
    "\n",
    "    def same(self, x, y):\n",
    "        return self.find(x) == self.find(y)\n",
    "\n",
    "    def members(self, x):\n",
    "        root = self.find(x)\n",
    "        return [i for i in range(self.n) if self.find(i) == root]\n",
    "\n",
    "    def roots(self):\n",
    "        return [i for i, x in enumerate(self.parents) if x < 0]\n",
    "\n",
    "    def group_count(self):\n",
    "        return len(self.roots())\n",
    "\n",
    "    def all_group_members(self):\n",
    "        group_members = defaultdict(list)\n",
    "        for member in range(self.n):\n",
    "            group_members[self.find(member)].append(member)\n",
    "        return group_members\n",
    "\n",
    "    def __str__(self):\n",
    "        return '\\n'.join(f'{r}: {m}' for r, m in self.all_group_members().items())\n",
    "    \n",
    "# 辺をつなげていき，最後にgroup_countを実行することで求められる"
   ]
  },
  {
   "cell_type": "markdown",
   "id": "9532ae13",
   "metadata": {},
   "source": [
    "# 閉路の数を求める"
   ]
  },
  {
   "cell_type": "markdown",
   "id": "e0b2f66d",
   "metadata": {},
   "source": [
    "## UnionFind"
   ]
  },
  {
   "cell_type": "markdown",
   "id": "c9a5b307",
   "metadata": {},
   "source": [
    "- uf.same(a, b)により今から繋げたい頂点同士がすでに連結成分であるかを判定\n",
    "- すでに連結成分である場合は，その頂点同士を繋げることで閉路になるので，ans+=1とする"
   ]
  },
  {
   "cell_type": "code",
   "execution_count": null,
   "id": "21ddf694",
   "metadata": {},
   "outputs": [],
   "source": [
    "# ABC288_C問題\n",
    "# 閉路の数だけ，辺を削除する必要がある\n",
    "# 閉路の数を，Union Findでカウント\n",
    "# UnionFindクラスは，別の場所で定義済みなので，省略\n",
    "\n",
    "N, M = map(int, input().split())\n",
    "uf = UnionFind(N)\n",
    "ans = 0\n",
    "A, B = [], []\n",
    "for i in range(M):\n",
    "    a, b = map(int, input().split())\n",
    "    A.append(a-1)\n",
    "    B.append(b-1)\n",
    "\n",
    "for i in range(len(A)):\n",
    "    if uf.same(A[i], B[i]):\n",
    "        ans += 1\n",
    "    uf.union(A[i], B[i])\n",
    "        \n",
    "print(ans)"
   ]
  },
  {
   "cell_type": "code",
   "execution_count": null,
   "id": "1e647e56",
   "metadata": {},
   "outputs": [],
   "source": []
  },
  {
   "cell_type": "code",
   "execution_count": null,
   "id": "86a2f693",
   "metadata": {},
   "outputs": [],
   "source": []
  },
  {
   "cell_type": "code",
   "execution_count": null,
   "id": "90fd5364",
   "metadata": {},
   "outputs": [],
   "source": []
  },
  {
   "cell_type": "code",
   "execution_count": null,
   "id": "598b3b49",
   "metadata": {},
   "outputs": [],
   "source": []
  },
  {
   "cell_type": "code",
   "execution_count": null,
   "id": "daf5fffb",
   "metadata": {},
   "outputs": [],
   "source": []
  },
  {
   "cell_type": "code",
   "execution_count": null,
   "id": "6c072c51",
   "metadata": {},
   "outputs": [],
   "source": []
  },
  {
   "cell_type": "code",
   "execution_count": null,
   "id": "ade26587",
   "metadata": {},
   "outputs": [],
   "source": []
  },
  {
   "cell_type": "code",
   "execution_count": null,
   "id": "7551bfe8",
   "metadata": {},
   "outputs": [],
   "source": []
  }
 ],
 "metadata": {
  "kernelspec": {
   "display_name": "Python 3 (ipykernel)",
   "language": "python",
   "name": "python3"
  },
  "language_info": {
   "codemirror_mode": {
    "name": "ipython",
    "version": 3
   },
   "file_extension": ".py",
   "mimetype": "text/x-python",
   "name": "python",
   "nbconvert_exporter": "python",
   "pygments_lexer": "ipython3",
   "version": "3.10.11"
  },
  "toc": {
   "base_numbering": 1,
   "nav_menu": {},
   "number_sections": true,
   "sideBar": true,
   "skip_h1_title": false,
   "title_cell": "Table of Contents",
   "title_sidebar": "Contents",
   "toc_cell": false,
   "toc_position": {
    "height": "calc(100% - 180px)",
    "left": "10px",
    "top": "150px",
    "width": "270.969px"
   },
   "toc_section_display": true,
   "toc_window_display": true
  },
  "varInspector": {
   "cols": {
    "lenName": 16,
    "lenType": 16,
    "lenVar": 40
   },
   "kernels_config": {
    "python": {
     "delete_cmd_postfix": "",
     "delete_cmd_prefix": "del ",
     "library": "var_list.py",
     "varRefreshCmd": "print(var_dic_list())"
    },
    "r": {
     "delete_cmd_postfix": ") ",
     "delete_cmd_prefix": "rm(",
     "library": "var_list.r",
     "varRefreshCmd": "cat(var_dic_list()) "
    }
   },
   "types_to_exclude": [
    "module",
    "function",
    "builtin_function_or_method",
    "instance",
    "_Feature"
   ],
   "window_display": false
  }
 },
 "nbformat": 4,
 "nbformat_minor": 5
}
